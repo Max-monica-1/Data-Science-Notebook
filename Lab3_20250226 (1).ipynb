{
  "nbformat": 4,
  "nbformat_minor": 0,
  "metadata": {
    "colab": {
      "private_outputs": true,
      "provenance": []
    },
    "kernelspec": {
      "name": "python3",
      "display_name": "Python 3"
    },
    "language_info": {
      "name": "python"
    }
  },
  "cells": [
    {
      "cell_type": "markdown",
      "source": [
        "# **Step 1: Installation and Imports**"
      ],
      "metadata": {
        "id": "Xxjh3J6xhme4"
      }
    },
    {
      "cell_type": "markdown",
      "source": [
        "Name: Xing Wang        \n",
        "Date: 2025-02-26          \n",
        "BIS"
      ],
      "metadata": {
        "id": "MzXKMVc9GTfd"
      }
    },
    {
      "cell_type": "code",
      "execution_count": null,
      "metadata": {
        "id": "3kvpMLmahGQQ"
      },
      "outputs": [],
      "source": [
        "import sys\n",
        "!{sys.executable} -m pip install --quiet seaborn matplotlib pandas"
      ]
    },
    {
      "cell_type": "code",
      "source": [
        "# import the library\n",
        "import seaborn as sns\n",
        "import matplotlib.pyplot as plt\n",
        "import pandas as pd\n",
        "import numpy as np\n",
        "\n",
        "%matplotlib inline\n",
        "\n",
        "# Let's set some display options\n",
        "\n",
        "# Show all columns (no column truncation)\n",
        "pd.set_option('display.max_columns', None)\n",
        "\n",
        "# (Optional) Show all rows (no row truncation)\n",
        "pd.set_option('display.max_rows', None)\n",
        "\n",
        "# (Optional) Don't truncate long text fields in cells\n",
        "pd.set_option('display.max_colwidth', None)\n",
        "\n",
        "sns.set_style('whitegrid')  # Seaborn style"
      ],
      "metadata": {
        "id": "JhI81cNJi4xd"
      },
      "execution_count": null,
      "outputs": []
    },
    {
      "cell_type": "markdown",
      "source": [
        "#Step 2: Load the Avocado Dataset#"
      ],
      "metadata": {
        "id": "9weXVj2xhPNS"
      }
    },
    {
      "cell_type": "code",
      "source": [
        "# upload file from the local\n",
        "from google.colab import files\n",
        "uploaded = files.upload()"
      ],
      "metadata": {
        "id": "otVZn-D_hphp"
      },
      "execution_count": null,
      "outputs": []
    },
    {
      "cell_type": "code",
      "source": [
        "# get the path of the .csv file\n",
        "import os\n",
        "os.getcwd()\n",
        "os.listdir()"
      ],
      "metadata": {
        "id": "Ezt-VzGCltoR"
      },
      "execution_count": null,
      "outputs": []
    },
    {
      "cell_type": "code",
      "source": [
        "# read the csv file and show the first five rows of the csv document\n",
        "df = pd.read_csv('avocado .csv')\n",
        "df.head()"
      ],
      "metadata": {
        "id": "U5yPDy9LmL-1"
      },
      "execution_count": null,
      "outputs": []
    },
    {
      "cell_type": "markdown",
      "source": [
        "## 2.1 Basic Review of the data"
      ],
      "metadata": {
        "id": "J8Y2CaE1sdgr"
      }
    },
    {
      "cell_type": "code",
      "source": [
        "# get the shape of the dateframe\n",
        "df.shape"
      ],
      "metadata": {
        "id": "8LqHvvXsn1gv"
      },
      "execution_count": null,
      "outputs": []
    },
    {
      "cell_type": "code",
      "source": [
        "# list the information of the data\n",
        "df.info()"
      ],
      "metadata": {
        "id": "yZie78Oks0g0"
      },
      "execution_count": null,
      "outputs": []
    },
    {
      "cell_type": "code",
      "source": [
        "#list the abributes of the data\n",
        "df.describe(include='all')"
      ],
      "metadata": {
        "id": "36fwhw4ks61T"
      },
      "execution_count": null,
      "outputs": []
    },
    {
      "cell_type": "markdown",
      "source": [
        "#Step 3.Handling Missing Values"
      ],
      "metadata": {
        "id": "7sJH-rzFtKpD"
      }
    },
    {
      "cell_type": "code",
      "source": [
        "# Check the sum of missing data per each column\n",
        "df.isnull().sum()"
      ],
      "metadata": {
        "id": "Bt2rjOYUtJIF"
      },
      "execution_count": null,
      "outputs": []
    },
    {
      "cell_type": "markdown",
      "source": [
        "### There are nothing missing data have to be dealt with"
      ],
      "metadata": {
        "id": "MqRaPG8vtiKd"
      }
    },
    {
      "cell_type": "markdown",
      "source": [
        "#Step 4: Univariate Analysis"
      ],
      "metadata": {
        "id": "T1TGWrc-uodj"
      }
    },
    {
      "cell_type": "markdown",
      "source": [
        "###4.1 Counts of Orgnaic vs. Non- Organic"
      ],
      "metadata": {
        "id": "rn0eARNrvKwg"
      }
    },
    {
      "cell_type": "code",
      "source": [
        "plt.figure(figsize=(6, 4))\n",
        "sns.countplot(data=df, x='type', color='lightgreen')\n",
        "plt.title('Counts of Orgnaic vs. Non- Organic')\n",
        "plt.show()"
      ],
      "metadata": {
        "id": "PcnTEvHRttTf"
      },
      "execution_count": null,
      "outputs": []
    },
    {
      "cell_type": "markdown",
      "source": [
        "###4.2 Prices of Organic and Non-Organic including outliers"
      ],
      "metadata": {
        "id": "aro0zqTZ4T78"
      }
    },
    {
      "cell_type": "code",
      "source": [
        "plt.figure(figsize=(6, 4))\n",
        "sns.boxplot(data=df, x='type', y='AveragePrice', hue='type')\n",
        "plt.title('Boxplot of Organic and Non-Organic')\n",
        "plt.show"
      ],
      "metadata": {
        "id": "KiEo6snBzsnZ"
      },
      "execution_count": null,
      "outputs": []
    },
    {
      "cell_type": "markdown",
      "source": [
        "###4.3 Average prices of Organic  and Non-Organic over years including outliers"
      ],
      "metadata": {
        "id": "PEupqzgY7O30"
      }
    },
    {
      "cell_type": "code",
      "source": [
        "# Filter the dataset for Organic and Non-Organic products\n",
        "organic_df = df[df['type'] == 'organic']\n",
        "nonorganic_df = df[df['type'] == 'conventional']\n",
        "\n",
        "# create plot for both average price\n",
        "# Create boxplot for Organic products\n",
        "fig, axes = plt.subplots(1, 2, figsize=(16, 6))\n",
        "sns.boxplot(ax=axes[0], data=organic_df, x='year', y='AveragePrice', color='skyblue')\n",
        "axes[0].set_title('Boxplot for Organic Average Price')\n",
        "\n",
        "# Create boxplot for Non-Organic products\n",
        "sns.boxplot(ax=axes[1], data=nonorganic_df, x='year', y='AveragePrice', color='orange')\n",
        "axes[0].set_title('Boxplot for NON-Organic Average Price')\n",
        "\n",
        "plt.show()"
      ],
      "metadata": {
        "id": "KvaU3-OsEDuT"
      },
      "execution_count": null,
      "outputs": []
    },
    {
      "cell_type": "markdown",
      "source": [
        "###4.4 Histogram of Organic Prices"
      ],
      "metadata": {
        "id": "scVjlhif7lh5"
      }
    },
    {
      "cell_type": "code",
      "source": [
        "# filter the dataset for organic prices\n",
        "organic_df = df[df['type'] == 'organic']\n",
        "\n",
        "# plot the distribution for organic prices only\n",
        "plt.figure(figsize=(8, 4))\n",
        "sns.histplot(data=organic_df, x='AveragePrice', bins=30, kde=False, color='skyblue')\n",
        "plt.title('Distribution of Organic Price')\n",
        "plt.show()"
      ],
      "metadata": {
        "id": "67DU95XU7k5R"
      },
      "execution_count": null,
      "outputs": []
    },
    {
      "cell_type": "markdown",
      "source": [
        "###4.5 Histogram of Non-Oranic Price"
      ],
      "metadata": {
        "id": "oE5y45j77s6e"
      }
    },
    {
      "cell_type": "code",
      "source": [
        "# filter the dataset for NON-Organic prices\n",
        "nonorganic_df = df[df['type'] == 'conventional']\n",
        "\n",
        "# plot the distribution for organic prices only\n",
        "plt.figure(figsize=(8, 4))\n",
        "sns.histplot(data=nonorganic_df, x='AveragePrice', bins=30, kde=False, color='orange')\n",
        "plt.title('Distribution of NON-Organic Price')\n",
        "plt.show()"
      ],
      "metadata": {
        "id": "VNT6qD2K726_"
      },
      "execution_count": null,
      "outputs": []
    }
  ]
}